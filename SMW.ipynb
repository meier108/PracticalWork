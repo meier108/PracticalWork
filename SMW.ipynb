{
 "cells": [
  {
   "cell_type": "markdown",
   "id": "0c3c445b",
   "metadata": {},
   "source": [
    "## Single Mutant Walker\n",
    "Author: Michael Meier\n",
    "\n",
    "This notebook introduces a SMW class to generate new DNA Sequences and Score them. "
   ]
  },
  {
   "cell_type": "code",
   "execution_count": 1,
   "id": "547a3f53",
   "metadata": {},
   "outputs": [],
   "source": [
    "#imports\n",
    "import numpy as np\n",
    "import pandas as pd"
   ]
  },
  {
   "cell_type": "code",
   "execution_count": 11,
   "id": "75bfda2f",
   "metadata": {},
   "outputs": [],
   "source": [
    "class SMW:\n",
    "\n",
    "    def __init__(self, nucleotides):\n",
    "        self.nucleotides = nucleotides\n",
    "        self.n = len(nucleotides)\n",
    "        \n",
    "\n",
    "    def mutate_sequence(self, sequence, pos):\n",
    "\n",
    "        sequence = list(sequence)\n",
    "        if pos is None:\n",
    "            pos = np.random.randint(0, len(sequence))\n",
    "\n",
    "        # Get current nucleotide and possible mutations, make sure that nuc is different\n",
    "        current_nucleotide = sequence[pos]\n",
    "        possible_mutations = [nuc for nuc in self.nucleotides if nuc !=\n",
    "                                current_nucleotide]\n",
    "        \n",
    "        # Replace nucleotide at position \n",
    "        new_nucleotide = np.random.choice(possible_mutations)\n",
    "        sequence[pos] = new_nucleotide\n",
    "        return ''.join(sequence)\n",
    "    \n",
    "    def generate_all_mutations(self, sequence):\n",
    "        mutants = []\n",
    "        for pos in range(len(sequence)):\n",
    "            current_nucleotide = sequence[pos]\n",
    "            for nuc in self.nucleotides:\n",
    "                if nuc != current_nucleotide:\n",
    "                    mutated = sequence[:pos] + nuc + sequence[pos+1:]\n",
    "                    mutants.append(mutated)\n",
    "        return mutants\n",
    "    \n",
    "    def walk(self, start_sequence, n_steps, fitness_function):\n",
    "        current_seq = start_sequence\n",
    "        current_fitness = fitness_function(current_seq)\n",
    "\n",
    "        history = [(current_seq, current_fitness)]\n",
    "\n",
    "        for step in range(n_steps):\n",
    "            mutant = self.mutate_sequence(current_seq, None)\n",
    "            mutant_fitness = fitness_function(mutant)\n",
    "\n",
    "            # Check if mutant is better than current\n",
    "            # Yes: move to mutant\n",
    "            if mutant_fitness > current_fitness:\n",
    "                current_seq = mutant\n",
    "                current_fitness = mutant_fitness\n",
    "\n",
    "            history.append((current_seq, current_fitness))\n",
    "\n",
    "        return history\n"
   ]
  },
  {
   "cell_type": "code",
   "execution_count": 14,
   "id": "4041a968",
   "metadata": {},
   "outputs": [
    {
     "name": "stdout",
     "output_type": "stream",
     "text": [
      "Generated history of length 11:\n",
      "Final sequence: GAAAGGAG with fitness 4\n",
      "Full history:\n",
      "Sequence: AAAAAAAA, Fitness: 0\n",
      "Sequence: AAAAAAAA, Fitness: 0\n",
      "Sequence: AAAAAAAA, Fitness: 0\n",
      "Sequence: AAAAAAAG, Fitness: 1\n",
      "Sequence: AAAAAAAG, Fitness: 1\n",
      "Sequence: AAAAAGAG, Fitness: 2\n",
      "Sequence: AAAAGGAG, Fitness: 3\n",
      "Sequence: AAAAGGAG, Fitness: 3\n",
      "Sequence: GAAAGGAG, Fitness: 4\n",
      "Sequence: GAAAGGAG, Fitness: 4\n",
      "Sequence: GAAAGGAG, Fitness: 4\n"
     ]
    }
   ],
   "source": [
    "# Test the Walker class\n",
    "\n",
    "def fitness_function(sequence):\n",
    "    return sequence.count('G')\n",
    "\n",
    "\n",
    "walker = SMW(nucleotides=['A', 'C', 'G', 'T'])\n",
    "start_seq = 'AAAAAAAA'\n",
    "history = walker.walk(start_seq, n_steps = 10, fitness_function=fitness_function)\n",
    "print(f'Generated history of length {len(history)}:')\n",
    "print(f'Final sequence: {history[-1][0]} with fitness {history[-1][1]}')\n",
    "print('Full history:')\n",
    "for seq, fit in history:\n",
    "    print(f'Sequence: {seq}, Fitness: {fit}')"
   ]
  },
  {
   "cell_type": "code",
   "execution_count": null,
   "id": "77816c77",
   "metadata": {},
   "outputs": [],
   "source": []
  }
 ],
 "metadata": {
  "kernelspec": {
   "display_name": ".venv",
   "language": "python",
   "name": "python3"
  },
  "language_info": {
   "codemirror_mode": {
    "name": "ipython",
    "version": 3
   },
   "file_extension": ".py",
   "mimetype": "text/x-python",
   "name": "python",
   "nbconvert_exporter": "python",
   "pygments_lexer": "ipython3",
   "version": "3.10.12"
  }
 },
 "nbformat": 4,
 "nbformat_minor": 5
}
